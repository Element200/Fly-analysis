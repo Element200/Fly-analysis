{
 "cells": [
  {
   "cell_type": "code",
   "execution_count": null,
   "id": "52018f01",
   "metadata": {},
   "outputs": [],
   "source": [
    "import numpy as np\n",
    "import matplotlib.pyplot as plt\n",
    "from matplotlib.animation import FuncAnimation\n",
    "from scipy.fft import fft,fftfreq\n",
    "import time"
   ]
  },
  {
   "cell_type": "markdown",
   "id": "839bef1e",
   "metadata": {},
   "source": [
    "## The cell below contains all definitions. "
   ]
  },
  {
   "cell_type": "code",
   "execution_count": null,
   "id": "a4bb5878",
   "metadata": {},
   "outputs": [],
   "source": [
    "def simulate(m1, m2, k1, k2, k3, x1 = 0, x2 = 0, F_1 = lambda x: 0, F_2 = lambda x: 0, v1=0, v2=0, steps = 1000, dt=0.01):\n",
    "    \"\"\"Calculates the motion of two identical unit masses with a spring between them, given initial positions, etc.\n",
    "    Parameters:\n",
    "    x1, x2 (floats): Initial displacements, zero by default\n",
    "    m1, m2 (floats): Masses of each oscillator\n",
    "    k1, k2, k3 (float): Spring constants\n",
    "    F_1, F_2 (lambda functions): monovariable functions determining forces on each mass as functions of time\"\"\".\n",
    "    mass1 = [x1]\n",
    "    mass2 = [x2]\n",
    "    vel1 = [v1]\n",
    "    vel2 = [v2]\n",
    "    for i in range(steps):\n",
    "        F1 = -k1*mass1[-1] - k2*(mass1[-1] - mass2[-1]) + F_1(i*dt)\n",
    "        F2 = -k3*mass2[-1] - k2*(mass2[-1] - mass1[-1]) + F_2(i*dt)\n",
    "        dv1 = F1*dt/m1\n",
    "        dv2 = F2*dt/m2\n",
    "        vel1.append(vel1[-1] + dv1)\n",
    "        vel2.append(vel2[-1] + dv2)\n",
    "        mass1.append(mass1[-1] + vel1[-1]*dt)\n",
    "        mass2.append(mass2[-1] + vel2[-1]*dt)\n",
    "    return mass1, mass2, vel1, vel2\n",
    "\n",
    "def find_maxima(array_x, array_y):\n",
    "    \"\"\"Given an array ordered by another array, finds and returns the local maxima\"\"\"\n",
    "    array = {array_x[i]:array_y[i] for i in range(len(array_x))}\n",
    "    outs = []\n",
    "    for i in range(1,len(array_x)-1):\n",
    "        if array[array_x[i]] > array[array_x[i-1]] and array[array_x[i]] > array[array_x[i+1]]:\n",
    "            outs.append((array_x[i], array_y[i]))\n",
    "            \n",
    "    return outs"
   ]
  },
  {
   "cell_type": "markdown",
   "id": "489e43df",
   "metadata": {},
   "source": [
    "## The two cells below contain an example code. Change any of dt, steps, M, or k."
   ]
  },
  {
   "cell_type": "code",
   "execution_count": null,
   "id": "a0a7fbc0",
   "metadata": {
    "scrolled": false
   },
   "outputs": [],
   "source": [
    "dt = 0.01\n",
    "steps = int(1000000*dt)\n",
    "M = 1 # Mass ratio\n",
    "k = 1.219 # I've made this a random number just so that I can be sure that any behaviour of the \n",
    "          # oscillator is not a consquence of the ratio of the spring constants being a whole multiple of\n",
    "          # this value.\n",
    "x1,x2,v1,v2 = simulate(1, M, k, 1, k,\n",
    "                                     F_1 = lambda t: np.sin(5.12412*t), F_2 = lambda t: np.sin(t),\n",
    "#                                      x1=1,x2=1 # Uncomment to set initial conditions. \n",
    "                                     steps = steps, dt=dt)\n",
    "x1 = np.array(x1)\n",
    "x2 = np.array(x2) \n",
    "time = np.linspace(0, steps*dt + dt, steps+1)\n",
    "fig2, ax2 = plt.subplots(3)\n",
    "plotarea = 8000 # Change this to change areas of the subplot that you may want to examine\n",
    "ax2[0].plot(time[plotarea:], x1[plotarea:], \"g\", label = \"Mass 1\")\n",
    "ax2[0].plot(time[plotarea:], x2[plotarea:], \"r\", label = \"Mass 2\") # These plots contain the first bits of the graph\n",
    "ax2[1].plot(time[:len(x1)-plotarea], x1[:len(x1)-plotarea], \"g\", label = \"Mass 1\")\n",
    "ax2[1].plot(time[:len(x1)-plotarea], x2[:len(x2)-plotarea], \"r\", label = \"Mass 2\") # These plots contain the second bits of the graph\n",
    "ax2[2].plot(time, x1, 'g', label = \"Mass 1\")\n",
    "ax2[2].plot(time, x2, 'r', label = \"Mass 2\") # This plot contains the entire graph\n",
    "# ax2[2].plot(time, -(-(1/(1-k))*np.sin((k**0.5)*time) + (k/(1-k))*np.sin(time)), 'b') # For comparison with theoretical results?\n",
    "\n",
    "leg = []\n",
    "for i in range(3):\n",
    "    leg.append(ax2[i].legend()) # This creates the appropriate legends\n"
   ]
  },
  {
   "cell_type": "code",
   "execution_count": null,
   "id": "1b3aee01",
   "metadata": {},
   "outputs": [],
   "source": [
    "N = len(x1)\n",
    "T = dt\n",
    "yf = fft(x1)\n",
    "yf2 = fft(x2)\n",
    "xf = fftfreq(N, T)\n",
    "fig3, ax3 = plt.subplots(2)\n",
    "ar=200\n",
    "ax3[0].plot(xf[:N//ar], 2.0/N * np.abs(yf[0:N//ar]), 'g')\n",
    "ax3[0].plot(xf[:N//ar], 2.0/N * np.abs(yf2[0:N//ar]), 'r')\n",
    "ax3[0].grid()\n",
    "\n",
    "ax3[1].plot(xf[0:N//2], 2.0/N * np.abs(yf)[0:N//2], 'g')\n",
    "ax3[1].plot(xf[0:N//2], 2.0/N * np.abs(yf2)[0:N//2], 'r')\n",
    "ax3[1].grid()"
   ]
  },
  {
   "cell_type": "markdown",
   "id": "4faf54b8",
   "metadata": {},
   "source": [
    "## The cell below calculates all the maxima on a given plot. This doesn't encapsulate all the details but it should be enough for a rough idea. \n",
    "##### To be done: \n",
    "- Find a way to represent correlation in Python. Each element contains pairs of maxima and corresponding X-values; they must be correlated\n",
    "- Cross-correlation doesn't work, it's too computation-intensive and it yields unreasonably high numbers even for poor correlation simply because the majority of the y-values are zero\n",
    "- Coupled differential equation solver in Python to compare with theoretical results? The equations of motion reduce to a nonhomogeneous linear second-order differential equation, which should be solvable with a combination of eigenvalue solutions and variation of parameters."
   ]
  },
  {
   "cell_type": "code",
   "execution_count": null,
   "id": "fdd6b560",
   "metadata": {},
   "outputs": [],
   "source": [
    "t0 = time.time()\n",
    "dt = 0.01\n",
    "steps = int(1000000*dt)\n",
    "M = 1 # Mass ratio\n",
    "k_vec = np.linspace(0.2, 1.8, 100)\n",
    "time = np.linspace(0, steps*dt + dt, steps+1)\n",
    "\n",
    "OUT = []\n",
    "\n",
    "for k in k_vec:\n",
    "    x1,x2,v1,v2 = simulate(1, M, 1, k, 1,\n",
    "                                     F_1 = lambda t: np.sin(5*t), F_2 = lambda t: np.sin(t),\n",
    "                                     steps = steps, dt=dt)\n",
    "    x1, x2 = np.array(x1), np.array(x2)\n",
    "    N = len(x1)\n",
    "    yf = fft(x1)\n",
    "    yf2 = fft(x2)\n",
    "    xf = fftfreq(N, dt)\n",
    "    ymax, ymax2 = find_maxima(xf, 2.0/N * np.abs(yf)), find_maxima(xf, 2.0/N *np.abs(yf2))\n",
    "    OUT.append((ymax, ymax2))\n",
    "    \n",
    "t1 = time.time()\n",
    "print(t1-t0)"
   ]
  },
  {
   "cell_type": "code",
   "execution_count": null,
   "id": "2a24f9a0",
   "metadata": {},
   "outputs": [],
   "source": []
  },
  {
   "cell_type": "code",
   "execution_count": null,
   "id": "d4e044bd",
   "metadata": {},
   "outputs": [],
   "source": []
  },
  {
   "cell_type": "code",
   "execution_count": null,
   "id": "3ec9d937",
   "metadata": {},
   "outputs": [],
   "source": []
  }
 ],
 "metadata": {
  "kernelspec": {
   "display_name": "Python 3",
   "language": "python",
   "name": "python3"
  },
  "language_info": {
   "codemirror_mode": {
    "name": "ipython",
    "version": 3
   },
   "file_extension": ".py",
   "mimetype": "text/x-python",
   "name": "python",
   "nbconvert_exporter": "python",
   "pygments_lexer": "ipython3",
   "version": "3.8.5"
  }
 },
 "nbformat": 4,
 "nbformat_minor": 5
}
