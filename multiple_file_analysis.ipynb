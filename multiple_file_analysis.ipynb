{
 "cells": [
  {
   "cell_type": "raw",
   "metadata": {},
   "source": [
    "\n",
    "                                MULTIPLE FILE ANALYSIS\n",
    "This code uses the fly class from the flypy.py program. The purpose of this code is to \n",
    "analyse entire sets of .csv files with \"*_xyzpts_*\" type csv files and return a plot of the standard \n",
    "errors and average errors, along with a .csv file in the right directory."
   ]
  },
  {
   "cell_type": "code",
   "execution_count": null,
   "metadata": {},
   "outputs": [],
   "source": [
    "from flypy import *\n",
    "import numpy as np\n",
    "import matplotlib.pyplot as plt\n",
    "import os\n",
    "import csv"
   ]
  },
  {
   "cell_type": "code",
   "execution_count": null,
   "metadata": {},
   "outputs": [],
   "source": [
    "\"\"\" Test code: testing the  fly class\n",
    "    Make sure this works before executing the rest of the code. Feel free to replace the organization file, \n",
    "    fly number, and trial with whatever you want.\"\"\"\n",
    "\n",
    "\n",
    "f = fly('data_organization_asym.txt', 7, 'cutwing2')\n",
    "f.print_statistics()\n",
    "f.plot_statistics()"
   ]
  },
  {
   "cell_type": "code",
   "execution_count": null,
   "metadata": {},
   "outputs": [],
   "source": [
    "data_files = {'asym':'data_organization_asym.txt','sc':'data_organization_sc.txt','epi':'data_organization_epi.txt','halt':'data_organization_halt.txt'}\n",
    "flies = {'asym':[1,2,3,5,6,7],'sc':[1,2,7,8,9],'epi':[1,2,3,5,7,8,9],'halt':[1,2,3,4,5,8]}\n",
    "nonhalt_trials = ['cutwing1','cutwing2','cutwing3','cutwing4','cutwing5','intactwings']\n",
    "halt_trials = ['intacthalteres', 'loadedhaltere1', 'loadedhaltere2', 'loadedhaltere3','removedload']\n",
    "fly_trials = {'asym' : nonhalt_trials, 'sc' : nonhalt_trials, 'epi': nonhalt_trials, 'halt': halt_trials}\n",
    "base = os.getcwd()"
   ]
  },
  {
   "cell_type": "code",
   "execution_count": null,
   "metadata": {},
   "outputs": [],
   "source": [
    "def find_dir(Mode):\n",
    "        \"\"\" This helper function finds the fly directory, given a certain file. For example, \n",
    "            calling this function on 'fly1_asym_cutwing1_1_csv_xyzpts.csv' outputs the path of\n",
    "            /asymmetric wings/fly1. This function will speed up the next one.\"\"\"\n",
    "        for root, Dir, files in os.walk(os.getcwd()):\n",
    "            for file in files:\n",
    "                if file == data_files[Mode]:\n",
    "                    return root\n",
    "                \n",
    "                \n",
    "def iterate_fly(mode, num):\n",
    "    assert mode in ['asym','epi','halt','sc'] and num in flies[mode]\n",
    "    base = os.getcwd()\n",
    "    averr_left, averr_right = [],[]\n",
    "    maxerr_left, maxerr_right = [],[]\n",
    "    available_trials = []\n",
    "    for trial in fly_trials[mode]:\n",
    "        try:\n",
    "            cwd = os.getcwd()\n",
    "            f = fly(data_files[mode], num, trial); print()\n",
    "            if cwd == base: \n",
    "                print(\"Changing directories...\")\n",
    "                newdir = find_dir(mode)\n",
    "                print(\"New directory:\", newdir)\n",
    "                os.chdir(newdir) # This line here makes the code much much faster. It can run without it, but the code will be slower.\n",
    "\n",
    "            left_averr, right_averr, left_maxerr, right_maxerr = f.get_errors()\n",
    "            averr_left.append(left_averr); averr_right.append(right_averr)\n",
    "            maxerr_left.append(left_maxerr); maxerr_right.append(right_maxerr)\n",
    "            available_trials.append(f.trial)\n",
    "        except Exception as e:\n",
    "            print(e)\n",
    "            print('That fly doesn\\'t exist'); print()\n",
    "    file = open(\"fly\"+str(num)+\"_errorfile\"+\".csv\", 'w')\n",
    "    \n",
    "    writer = csv.writer(file)\n",
    "    writer.writerow(['']+available_trials)\n",
    "    writer.writerow(['left average error']+averr_left)\n",
    "    writer.writerow(['right average error']+averr_right)\n",
    "    writer.writerow(['left maximum error']+maxerr_left)\n",
    "    writer.writerow(['right maximum error']+maxerr_right)\n",
    "    file.close()\n",
    "    os.chdir(base)\n",
    "    return {'left average error' : averr_left, 'right average error' : averr_right,\n",
    "           'left maximum error' : maxerr_left, 'right maximum error' : maxerr_right}\n"
   ]
  },
  {
   "cell_type": "code",
   "execution_count": null,
   "metadata": {},
   "outputs": [],
   "source": [
    "error_dict = iterate_fly('epi',8)"
   ]
  },
  {
   "cell_type": "raw",
   "metadata": {},
   "source": [
    "That last part should have taken about 15-30 seconds after I made various optimizations (initially it was about a minute to a minute and a half).\n",
    "\n",
    "You will occasionally see these types of messages:\n",
    "\n",
    "\"You are viewing fly7_cutwing5 in asym mode.\n",
    "No file found in module open_csv\n",
    "No file found in module get_points\n",
    "File not found in module find_winglengths\n",
    "cannot unpack non-iterable NoneType object\n",
    "That fly doesn't exist\".\n",
    "\n",
    "It'll continue to iterate by design; I made sure the error handling was like that since all flies don't necessarily have a cutwing5 and I didn't want the process to halt if it couldn't find a certain trial.\n",
    "\n",
    "The next block of code iterates over iterate_fly; it should take about three or four minutes to run."
   ]
  },
  {
   "cell_type": "code",
   "execution_count": null,
   "metadata": {},
   "outputs": [],
   "source": [
    "mode = 'epi' # Change this if you want.\n",
    "outlist = []\n",
    "os.chdir(base)\n",
    "for num in flies[mode]:\n",
    "    print(fly)\n",
    "    outlist.append(iterate_fly(mode, num))\n",
    "    print(os.getcwd())"
   ]
  },
  {
   "cell_type": "code",
   "execution_count": null,
   "metadata": {},
   "outputs": [],
   "source": [
    "error_dict # Use this to check whether the first part works\n",
    "# outlist # Uncomment that part to check if the second part of the code works."
   ]
  },
  {
   "cell_type": "code",
   "execution_count": null,
   "metadata": {},
   "outputs": [],
   "source": [
    "plt.plot(error_dict['left average error'], '--<g', label = 'left average error') \n",
    "plt.plot(error_dict['right average error'], '-og', label = 'right average error')\n",
    "plt.plot(error_dict['left maximum error'], '--<r', label = 'left maximum error') \n",
    "plt.plot(error_dict['right maximum error'],'-or', label = 'right maximum error')\n",
    "plt.title(label = 'Errors')\n",
    "plt.legend(loc = 'upper right')\n",
    "plt.show()\n"
   ]
  },
  {
   "cell_type": "code",
   "execution_count": null,
   "metadata": {},
   "outputs": [],
   "source": [
    "for error_dict in outlist:\n",
    "    plt.plot(error_dict['left average error'], '--<g', label = 'left average error') \n",
    "    plt.plot(error_dict['right average error'], '-og', label = 'right average error')\n",
    "    plt.plot(error_dict['left maximum error'], '--<r', label = 'left maximum error') \n",
    "    plt.plot(error_dict['right maximum error'],'-or', label = 'right maximum error')\n",
    "    plt.title(label = 'Errors')\n",
    "    plt.legend(loc = 'upper right')\n",
    "    plt.show()"
   ]
  }
 ],
 "metadata": {
  "kernelspec": {
   "display_name": "Python 3",
   "language": "python",
   "name": "python3"
  },
  "language_info": {
   "codemirror_mode": {
    "name": "ipython",
    "version": 3
   },
   "file_extension": ".py",
   "mimetype": "text/x-python",
   "name": "python",
   "nbconvert_exporter": "python",
   "pygments_lexer": "ipython3",
   "version": "3.8.3"
  }
 },
 "nbformat": 4,
 "nbformat_minor": 4
}
