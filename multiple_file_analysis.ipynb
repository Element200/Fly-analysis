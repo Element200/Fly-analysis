{
 "cells": [
  {
   "cell_type": "raw",
   "metadata": {},
   "source": [
    "\n",
    "                                MULTIPLE FILE ANALYSIS\n",
    "This code uses the fly class from the flypy.py program. The purpose of this code is to \n",
    "analyse entire sets of .csv files with \"*_xyzpts_*\" type csv files and return a plot of the standard \n",
    "errors and average errors, along with a .csv file in the right directory."
   ]
  },
  {
   "cell_type": "code",
   "execution_count": null,
   "metadata": {},
   "outputs": [],
   "source": [
    "from flypy import *\n",
    "import numpy as np\n",
    "import matplotlib.pyplot as plt\n",
    "import os\n",
    "import csv\n",
    "import glob"
   ]
  },
  {
   "cell_type": "code",
   "execution_count": null,
   "metadata": {
    "scrolled": true
   },
   "outputs": [],
   "source": [
    "\"\"\" Test code: testing the  fly class\n",
    "    Make sure this works before executing the rest of the code. Feel free to replace the organization file, \n",
    "    fly number, and trial with whatever you want.\"\"\"\n",
    "\n",
    "\n",
    "print(os.getcwd())\n",
    "f = fly('data_organization_asym.txt', 6, 'intactwings')\n",
    "f.print_statistics()\n",
    "f.plot_statistics()"
   ]
  },
  {
   "cell_type": "code",
   "execution_count": null,
   "metadata": {},
   "outputs": [],
   "source": [
    "data_files = {'asym':'data_organization_asym.txt','sc':'data_organization_sc.txt','epi':'data_organization_epi.txt','halt':'data_organization_halt.txt'}\n",
    "flies = {'asym':[1,2,3,5,6,7],'sc':[1,2,7,8,9],'epi':[1,2,3,5,7,8,9],'halt':[1,2,3,4,5,8]}\n",
    "nonhalt_trials = ['cutwing1','cutwing2','cutwing3','cutwing4','cutwing5','intactwings']\n",
    "halt_trials = ['intacthalteres', 'loadedhaltere1', 'loadedhaltere2', 'loadedhaltere3','removedload']\n",
    "fly_trials = {'asym' : nonhalt_trials, 'sc' : nonhalt_trials, 'epi': nonhalt_trials, 'halt': halt_trials}\n",
    "base = os.getcwd()\n",
    "error_files_dir = 'C:/Users/sidda/Dropbox/My PC (DESKTOP-5DI2VVI)/Desktop/Summer Project 2020 data/Analysis_Siddharth'"
   ]
  },
  {
   "cell_type": "code",
   "execution_count": null,
   "metadata": {},
   "outputs": [],
   "source": [
    "def find_dir(File):\n",
    "        \"\"\" This helper function finds the fly directory, given a certain file. For example, \n",
    "            calling this function on 'fly1_asym_cutwing1_1_csv_xyzpts.csv' outputs the path of\n",
    "            /asymmetric wings/fly1. This function will speed up the next one.\"\"\"\n",
    "        for root, Dir, files in os.walk(os.getcwd()):\n",
    "            for file in files:\n",
    "                if file == File:\n",
    "                    return root\n",
    "                \n",
    "                \n",
    "def iterate_num(mode, num):\n",
    "    \"\"\"Iterates over all the trials in a given fly and calculates and records statistics for a certain mode. F\n",
    "    For example, iterate_num('epi', 5) would iterate over all the trials of fly5_epi\"\"\"\n",
    "    assert mode in ['asym','epi','halt','sc'] and num in flies[mode]\n",
    "    averr_left, averr_right = [],[]\n",
    "    maxerr_left, maxerr_right = [],[]\n",
    "    available_trials = []\n",
    "    for trial in fly_trials[mode]:\n",
    "        try:\n",
    "            cwd = os.getcwd()\n",
    "            f = fly(data_files[mode], num, trial); print()\n",
    "            if cwd == base: \n",
    "                print(\"Changing directories...\")\n",
    "                newdir = find_dir(data_files[mode])\n",
    "                print(\"New directory:\", newdir)\n",
    "                os.chdir(newdir) # This line here makes the code much much faster. It can run without it, but the code will be slower.\n",
    "\n",
    "            left_averr, right_averr, left_maxerr, right_maxerr = f.get_errors()\n",
    "            averr_left.append(left_averr); averr_right.append(right_averr)\n",
    "            maxerr_left.append(left_maxerr); maxerr_right.append(right_maxerr)\n",
    "            available_trials.append(f.trial)\n",
    "        except Exception as e:\n",
    "            print(e)\n",
    "            print('That fly doesn\\'t exist'); print()\n",
    "    \n",
    "    os.chdir(error_files_dir)\n",
    "    file = open(\"fly\"+str(num)+\"_\"+mode+\"_errorfile\"+\".csv\", 'w')\n",
    "    \n",
    "    writer = csv.writer(file)\n",
    "    writer.writerow(['']+available_trials)\n",
    "    writer.writerow(['left average error']+averr_left)\n",
    "    writer.writerow(['right average error']+averr_right)\n",
    "    writer.writerow(['left maximum error']+maxerr_left)\n",
    "    writer.writerow(['right maximum error']+maxerr_right)\n",
    "    file.close()\n",
    "    os.chdir(base)\n",
    "    return {'left average error' : averr_left, 'right average error' : averr_right,\n",
    "           'left maximum error' : maxerr_left, 'right maximum error' : maxerr_right}\n",
    "\n",
    "def iterate_trial(mode, trial):\n",
    "    \"\"\"Iterates over all fly numbers for a given trial in an experiment. For example, \n",
    "    iterate_trials('epi', 'cutwing1') would iterate over all epi_cutwing1 files\"\"\"\n",
    "    assert mode in ['asym','epi','halt','sc'] and trial in fly_trials[mode]\n",
    "    averr_left, averr_right = [],[]\n",
    "    maxerr_left, maxerr_right = [],[]\n",
    "    available_nums = []\n",
    "    for num in flies[mode]:\n",
    "        try:\n",
    "            cwd = os.getcwd()\n",
    "            f = fly(data_files[mode], num, trial); print()\n",
    "            if cwd == base: \n",
    "                print(\"Changing directories...\")\n",
    "                newdir = find_dir(data_files[mode])\n",
    "                print(\"New directory:\", newdir)\n",
    "                os.chdir(newdir) # This line here makes the code much much faster. It can run without it, but the code will be slower.\n",
    "\n",
    "            left_averr, right_averr, left_maxerr, right_maxerr = f.get_errors()\n",
    "            averr_left.append(left_averr); averr_right.append(right_averr)\n",
    "            maxerr_left.append(left_maxerr); maxerr_right.append(right_maxerr)\n",
    "            available_nums.append(f.flynumber)\n",
    "        except Exception as e:\n",
    "            print(e)\n",
    "            print('That fly doesn\\'t exist'); print()\n",
    "    \n",
    "    os.chdir(error_files_dir)\n",
    "    file = open(mode+\"_\"+trial+\"_errorfile\"+\".csv\", 'w')\n",
    "   \n",
    "    writer = csv.writer(file)\n",
    "    writer.writerow(['']+list(available_nums))\n",
    "    writer.writerow(['left average error']+averr_left)\n",
    "    writer.writerow(['right average error']+averr_right)\n",
    "    writer.writerow(['left maximum error']+maxerr_left)\n",
    "    writer.writerow(['right maximum error']+maxerr_right)\n",
    "    file.close()\n",
    "    print(\"File:\", file, \"saved in\", os.getcwd())\n",
    "    os.chdir(base)\n",
    "    return {'left average error' : averr_left, 'right average error' : averr_right,\n",
    "           'left maximum error' : maxerr_left, 'right maximum error' : maxerr_right}\n"
   ]
  },
  {
   "cell_type": "code",
   "execution_count": null,
   "metadata": {},
   "outputs": [],
   "source": [
    "error_dict = iterate_trial('epi','cutwing1')"
   ]
  },
  {
   "cell_type": "raw",
   "metadata": {},
   "source": [
    "That last part should have taken about 15-30 seconds after I made various optimizations (initially it was about a minute to a minute and a half).\n",
    "\n",
    "You will occasionally see these types of messages:\n",
    "\n",
    "\"You are viewing fly7_cutwing5 in asym mode.\n",
    "No file found in module open_csv\n",
    "No file found in module get_points\n",
    "File not found in module find_winglengths\n",
    "cannot unpack non-iterable NoneType object\n",
    "That fly doesn't exist\".\n",
    "\n",
    "It'll continue to iterate by design; I made sure the error handling was like that since all flies don't necessarily have a cutwing5 and I didn't want the process to halt if it couldn't find a certain trial.\n",
    "\n",
    "The next block of code iterates over iterate_fly to yield csv files for the entire trial; it should take three to ten minutes to run, depending on your performance settings and the amount of RAM available.\n",
    "\n",
    "Time tests for following code block (Testing on epi_ridge_cut):\n",
    "Test 1: 528 s\n",
    "Test 2: 510 s\n",
    "Test 3: (After computer was plugged in halfway) 225 s\n",
    "Test 4: 140 s \n",
    "Test 5: 136 s \n",
    "Test 3: 139 s \n",
    "As it turns out, the reason the initial tests were so slow was because my computer was optimizing battery life while it was unplugged. Hooking it to power so that the computer can focus on performance made the runtime much shorter at just under four minutes."
   ]
  },
  {
   "cell_type": "code",
   "execution_count": null,
   "metadata": {},
   "outputs": [],
   "source": [
    "# Iterate over fly number\n",
    "\n",
    "from time import perf_counter\n",
    "t0 = perf_counter() # This just times the program\n",
    "\n",
    "mode = 'halt' # Change this if you want.\n",
    "outlist = []\n",
    "os.chdir(base)\n",
    "for num in flies[mode]:\n",
    "    print(fly)\n",
    "    outlist.append(iterate_num(mode, num))\n",
    "    print(os.getcwd())\n",
    "    \n",
    "print(); print(); print(\"Time taken:\", str(perf_counter()-t0))"
   ]
  },
  {
   "cell_type": "code",
   "execution_count": null,
   "metadata": {},
   "outputs": [],
   "source": [
    "# Iterate over fly treatment\n",
    "\n",
    "from time import perf_counter\n",
    "t0 = perf_counter() # This just times the program\n",
    "\n",
    "mode = 'halt' # Change this if you want.\n",
    "outlist = []\n",
    "os.chdir(base)\n",
    "for trial in fly_trials[mode]:\n",
    "    print(fly)\n",
    "    outlist.append(iterate_trial(mode, trial))\n",
    "    print(os.getcwd())\n",
    "    \n",
    "print(); print(); print(\"Time taken:\", str(perf_counter()-t0))"
   ]
  },
  {
   "cell_type": "code",
   "execution_count": null,
   "metadata": {},
   "outputs": [],
   "source": [
    "# error_dict # Use this to check whether the first part works\n",
    "outlist # Use this to check if the second part of the code works."
   ]
  },
  {
   "cell_type": "code",
   "execution_count": null,
   "metadata": {},
   "outputs": [],
   "source": [
    "plt.plot(error_dict['left average error'], '--<g', label = 'left average error') \n",
    "plt.plot(error_dict['right average error'], '-og', label = 'right average error')\n",
    "plt.plot(error_dict['left maximum error'], '--<r', label = 'left maximum error') \n",
    "plt.plot(error_dict['right maximum error'],'-or', label = 'right maximum error')\n",
    "plt.title(label = 'Errors')\n",
    "plt.legend(loc = 'upper right')"
   ]
  },
  {
   "cell_type": "code",
   "execution_count": null,
   "metadata": {},
   "outputs": [],
   "source": [
    "for error_dict in outlist:\n",
    "    plt.plot(error_dict['left average error'], '--<g', label = 'left average error') \n",
    "    plt.plot(error_dict['right average error'], '-og', label = 'right average error')\n",
    "    plt.plot(error_dict['left maximum error'], '--<r', label = 'left maximum error') \n",
    "    plt.plot(error_dict['right maximum error'],'-or', label = 'right maximum error')\n",
    "    plt.title(label = 'Errors')\n",
    "    plt.legend(loc = 'upper right')\n",
    "    plt.show()"
   ]
  },
  {
   "cell_type": "code",
   "execution_count": null,
   "metadata": {},
   "outputs": [],
   "source": [
    "os.getcwd() == base"
   ]
  },
  {
   "cell_type": "raw",
   "metadata": {},
   "source": [
    "The following parts of the code serve to graph all the errors for a given experiment."
   ]
  },
  {
   "cell_type": "code",
   "execution_count": null,
   "metadata": {},
   "outputs": [],
   "source": [
    "os.chdir(base)\n",
    "\n",
    "# This part of the code is specific to plotting by treatment\n",
    "files = [\"asym_cutwing1_errorfile.csv\", \"sc_cutwing1_errorfile.csv\", \"epi_cutwing1_errorfile.csv\", \"halt_intacthalteres_errorfile.csv\"]\n",
    "# The implicit assumption here is that all errorfiles will be in the same directory for a given experiment\n",
    "\n",
    "\n",
    "\n",
    "os.chdir(find_dir(files[3])) # Change the number here to the appropriate experiment\n",
    "print(os.getcwd())\n",
    "\n",
    "files = glob.glob(\"*errorfile.csv\")\n",
    "averror_l, averror_r, maxerror_l, maxerror_r = {},{},{},{}\n",
    "dicts = [averror_l, averror_r, maxerror_l, maxerror_r]\n",
    "\n",
    "for i in range(len(files)):\n",
    "    file = fly_trials['halt'][i] # Also change this to the appropriate experiment\n",
    "    df = pd.read_csv(files[i])\n",
    "    averror_l[file] = df.iloc[0, 1:]\n",
    "    averror_r[file] = df.iloc[1, 1:]\n",
    "    maxerror_l[file] = df.iloc[2, 1:]\n",
    "    maxerror_r[file] = df.iloc[3, 1:]"
   ]
  },
  {
   "cell_type": "code",
   "execution_count": null,
   "metadata": {},
   "outputs": [],
   "source": [
    "colours = ['r','g','b','y']\n",
    "names = ['left average error', 'right average error', 'left maximum error', 'right maximum error']\n",
    "col_dict = dict(zip(names, colours))\n",
    "symbols = ['s', 'X', 'o', '*','^','v','p']\n",
    "colsym_dict = {}\n",
    "for colour in colours:\n",
    "    for symbol in symbols:\n",
    "        colsym_dict[symbol+colour]=[]\n",
    "\n",
    "def dfindex(search_dfs, target_df):\n",
    "    \"\"\"Helper function to find index in list of dataframes\"\"\"\n",
    "    for i, search_df in enumerate(search_dfs):\n",
    "        if (search_df.values == target_df.values):\n",
    "            return i\n",
    "    return ValueError('DataFrame not in list')\n",
    "\n",
    "for Dict in dicts:\n",
    "    for key in Dict:\n",
    "        elements = list(Dict[key])\n",
    "        sym_dict = dict(zip(elements, symbols[:len(elements)]))\n",
    "        for i in range(len(elements)):\n",
    "            # print(\"plotting\", dicts.index(Dict))\n",
    "            name = names[dfindex(dicts,Dict)]\n",
    "            plt.plot([key],[elements[i]], sym_dict[elements[i]]+col_dict[name])\n",
    "            colsym_dict[sym_dict[elements[i]]+col_dict[name]].append((key,name,Dict[key].axes[0][i]))\n",
    "            \n",
    "plt.xlabel('Treatment')\n",
    "plt.ylabel('Error in decimal')\n",
    "plt.ylim(0,0.4)\n",
    "handles = []\n",
    "labels = []\n",
    "f = lambda m,c: plt.plot([],[],marker=m, color=c, ls=\"none\")[0]\n",
    "legend_dict = {}\n",
    "for key in colsym_dict:\n",
    "    if colsym_dict[key] != []:\n",
    "        handles.append(f('s', key[1]))\n",
    "        handles.append(f(key[0], 'w'))\n",
    "        labels.append(colsym_dict[key][0][1])\n",
    "        labels.append('fly'+colsym_dict[key][0][2])\n",
    "        legend_dict['s'+key[1]] = colsym_dict[key][0][1]\n",
    "        legend_dict[key[0]+'w'] = colsym_dict[key][0][2]\n",
    "axes = plt.gca()\n",
    "axes.yaxis.grid()\n",
    "plt.legend([f(key[0],key[1]) for key in legend_dict], list(legend_dict.values()), loc = \"upper right\")"
   ]
  },
  {
   "cell_type": "code",
   "execution_count": null,
   "metadata": {},
   "outputs": [],
   "source": [
    "legend_dict"
   ]
  },
  {
   "cell_type": "code",
   "execution_count": null,
   "metadata": {},
   "outputs": [],
   "source": [
    "colsym_dict"
   ]
  },
  {
   "cell_type": "code",
   "execution_count": null,
   "metadata": {},
   "outputs": [],
   "source": []
  }
 ],
 "metadata": {
  "kernelspec": {
   "display_name": "Python 3",
   "language": "python",
   "name": "python3"
  },
  "language_info": {
   "codemirror_mode": {
    "name": "ipython",
    "version": 3
   },
   "file_extension": ".py",
   "mimetype": "text/x-python",
   "name": "python",
   "nbconvert_exporter": "python",
   "pygments_lexer": "ipython3",
   "version": "3.8.5"
  }
 },
 "nbformat": 4,
 "nbformat_minor": 4
}
